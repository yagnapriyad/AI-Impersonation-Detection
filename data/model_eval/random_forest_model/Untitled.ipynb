{
 "cells": [
  {
   "cell_type": "code",
   "execution_count": 16,
   "metadata": {},
   "outputs": [],
   "source": [
    "import matplotlib.pyplot as plt\n",
    "import pickle\n",
    "import numpy as np"
   ]
  },
  {
   "cell_type": "code",
   "execution_count": 24,
   "metadata": {},
   "outputs": [],
   "source": [
    "# fig, axes = plt.subplots(ncols=3, sharey=\"row\")\n",
    "# axes[0].plot([0,1],[0,1])\n",
    "# axes[1].plot([0,1],[1,2])\n",
    "# axes[2].plot([0,1],[2,3])\n",
    "\n",
    "# pickle.dump(fig, file('fig1.pkl', 'wb'))  \n",
    "\n",
    "# plt.close(\"all\")\n",
    "\n",
    "fig2 = pickle.load(open('@BernieSanders_model.pkl','rb'))\n",
    "ax_master = fig2\n",
    "\n",
    "plt.show()"
   ]
  },
  {
   "cell_type": "code",
   "execution_count": null,
   "metadata": {},
   "outputs": [],
   "source": []
  }
 ],
 "metadata": {
  "kernelspec": {
   "display_name": "Python 3",
   "language": "python",
   "name": "python3"
  },
  "language_info": {
   "codemirror_mode": {
    "name": "ipython",
    "version": 3
   },
   "file_extension": ".py",
   "mimetype": "text/x-python",
   "name": "python",
   "nbconvert_exporter": "python",
   "pygments_lexer": "ipython3",
   "version": "3.6.8"
  }
 },
 "nbformat": 4,
 "nbformat_minor": 4
}
